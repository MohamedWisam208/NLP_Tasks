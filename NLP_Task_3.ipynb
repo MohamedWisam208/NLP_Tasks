{
  "nbformat": 4,
  "nbformat_minor": 0,
  "metadata": {
    "colab": {
      "provenance": []
    },
    "kernelspec": {
      "name": "python3",
      "display_name": "Python 3"
    },
    "language_info": {
      "name": "python"
    }
  },
  "cells": [
    {
      "cell_type": "markdown",
      "source": [
        "> # **Step 1: Preprocessing Arabic and English Texts**\n",
        "\n",
        "**Purpose:**  \n",
        "- To clean and prepare the Arabic and English texts for Word2Vec training by removing noise and standardizing formats.\n",
        "\n",
        "**Key Steps:**  \n",
        "1. **Normalization**: Converts text to lowercase and normalizes characters (e.g., \"ى\" to \"ي\"). This ensures consistency and reduces vocabulary size.\n",
        "2. **Tokenization**: Splits text into individual words or tokens for further processing.\n",
        "3. **Stopword Removal**: Removes common words that don’t contribute to the meaning of a sentence (e.g., \"and\", \"في\").\n",
        "4. **Spelling Correction**: Fixes typos and abbreviations, ensuring a clean vocabulary for Word2Vec.\n",
        "5. **Handling Mixed Languages**: Separates and handles Arabic and English words properly to reduce noise.\n",
        "\n",
        "**Challenges:**  \n",
        "- Arabic diacritics (e.g., \"كَتَبَ\" vs. \"كتب\") can create multiple forms of the same word, increasing vocabulary size unnecessarily.\n",
        "- Limited Arabic stopword lists compared to English require manual addition or customization.\n"
      ],
      "metadata": {
        "id": "2b0x5DYgfCc-"
      }
    },
    {
      "cell_type": "markdown",
      "source": [
        "**a. Normalization**\n"
      ],
      "metadata": {
        "id": "XNtX3n1qfJUw"
      }
    },
    {
      "cell_type": "code",
      "source": [
        "!pip install camel-tools"
      ],
      "metadata": {
        "colab": {
          "base_uri": "https://localhost:8080/"
        },
        "id": "f-6RLMehjqjf",
        "outputId": "e2ad8be8-a1d8-4c56-e3e1-5d49b98a527b"
      },
      "execution_count": null,
      "outputs": [
        {
          "output_type": "stream",
          "name": "stdout",
          "text": [
            "Requirement already satisfied: camel-tools in /usr/local/lib/python3.10/dist-packages (1.5.5)\n",
            "Requirement already satisfied: future in /usr/local/lib/python3.10/dist-packages (from camel-tools) (1.0.0)\n",
            "Requirement already satisfied: six in /usr/local/lib/python3.10/dist-packages (from camel-tools) (1.16.0)\n",
            "Requirement already satisfied: docopt in /usr/local/lib/python3.10/dist-packages (from camel-tools) (0.6.2)\n",
            "Requirement already satisfied: cachetools in /usr/local/lib/python3.10/dist-packages (from camel-tools) (5.5.0)\n",
            "Requirement already satisfied: numpy<2 in /usr/local/lib/python3.10/dist-packages (from camel-tools) (1.26.4)\n",
            "Requirement already satisfied: scipy in /usr/local/lib/python3.10/dist-packages (from camel-tools) (1.13.1)\n",
            "Requirement already satisfied: pandas in /usr/local/lib/python3.10/dist-packages (from camel-tools) (2.2.2)\n",
            "Requirement already satisfied: scikit-learn in /usr/local/lib/python3.10/dist-packages (from camel-tools) (1.5.2)\n",
            "Requirement already satisfied: dill in /usr/local/lib/python3.10/dist-packages (from camel-tools) (0.3.9)\n",
            "Requirement already satisfied: torch>=2.0 in /usr/local/lib/python3.10/dist-packages (from camel-tools) (2.5.1+cu121)\n",
            "Requirement already satisfied: transformers<4.44.0,>=4.0 in /usr/local/lib/python3.10/dist-packages (from camel-tools) (4.43.4)\n",
            "Requirement already satisfied: editdistance in /usr/local/lib/python3.10/dist-packages (from camel-tools) (0.8.1)\n",
            "Requirement already satisfied: requests in /usr/local/lib/python3.10/dist-packages (from camel-tools) (2.32.3)\n",
            "Requirement already satisfied: emoji in /usr/local/lib/python3.10/dist-packages (from camel-tools) (2.14.0)\n",
            "Requirement already satisfied: pyrsistent in /usr/local/lib/python3.10/dist-packages (from camel-tools) (0.20.0)\n",
            "Requirement already satisfied: tabulate in /usr/local/lib/python3.10/dist-packages (from camel-tools) (0.9.0)\n",
            "Requirement already satisfied: tqdm in /usr/local/lib/python3.10/dist-packages (from camel-tools) (4.66.6)\n",
            "Requirement already satisfied: muddler in /usr/local/lib/python3.10/dist-packages (from camel-tools) (0.1.3)\n",
            "Requirement already satisfied: camel-kenlm>=2024.5.6 in /usr/local/lib/python3.10/dist-packages (from camel-tools) (2024.5.6)\n",
            "Requirement already satisfied: filelock in /usr/local/lib/python3.10/dist-packages (from torch>=2.0->camel-tools) (3.16.1)\n",
            "Requirement already satisfied: typing-extensions>=4.8.0 in /usr/local/lib/python3.10/dist-packages (from torch>=2.0->camel-tools) (4.12.2)\n",
            "Requirement already satisfied: networkx in /usr/local/lib/python3.10/dist-packages (from torch>=2.0->camel-tools) (3.4.2)\n",
            "Requirement already satisfied: jinja2 in /usr/local/lib/python3.10/dist-packages (from torch>=2.0->camel-tools) (3.1.4)\n",
            "Requirement already satisfied: fsspec in /usr/local/lib/python3.10/dist-packages (from torch>=2.0->camel-tools) (2024.10.0)\n",
            "Requirement already satisfied: sympy==1.13.1 in /usr/local/lib/python3.10/dist-packages (from torch>=2.0->camel-tools) (1.13.1)\n",
            "Requirement already satisfied: mpmath<1.4,>=1.1.0 in /usr/local/lib/python3.10/dist-packages (from sympy==1.13.1->torch>=2.0->camel-tools) (1.3.0)\n",
            "Requirement already satisfied: huggingface-hub<1.0,>=0.23.2 in /usr/local/lib/python3.10/dist-packages (from transformers<4.44.0,>=4.0->camel-tools) (0.26.2)\n",
            "Requirement already satisfied: packaging>=20.0 in /usr/local/lib/python3.10/dist-packages (from transformers<4.44.0,>=4.0->camel-tools) (24.2)\n",
            "Requirement already satisfied: pyyaml>=5.1 in /usr/local/lib/python3.10/dist-packages (from transformers<4.44.0,>=4.0->camel-tools) (6.0.2)\n",
            "Requirement already satisfied: regex!=2019.12.17 in /usr/local/lib/python3.10/dist-packages (from transformers<4.44.0,>=4.0->camel-tools) (2024.9.11)\n",
            "Requirement already satisfied: safetensors>=0.4.1 in /usr/local/lib/python3.10/dist-packages (from transformers<4.44.0,>=4.0->camel-tools) (0.4.5)\n",
            "Requirement already satisfied: tokenizers<0.20,>=0.19 in /usr/local/lib/python3.10/dist-packages (from transformers<4.44.0,>=4.0->camel-tools) (0.19.1)\n",
            "Requirement already satisfied: python-dateutil>=2.8.2 in /usr/local/lib/python3.10/dist-packages (from pandas->camel-tools) (2.8.2)\n",
            "Requirement already satisfied: pytz>=2020.1 in /usr/local/lib/python3.10/dist-packages (from pandas->camel-tools) (2024.2)\n",
            "Requirement already satisfied: tzdata>=2022.7 in /usr/local/lib/python3.10/dist-packages (from pandas->camel-tools) (2024.2)\n",
            "Requirement already satisfied: charset-normalizer<4,>=2 in /usr/local/lib/python3.10/dist-packages (from requests->camel-tools) (3.4.0)\n",
            "Requirement already satisfied: idna<4,>=2.5 in /usr/local/lib/python3.10/dist-packages (from requests->camel-tools) (3.10)\n",
            "Requirement already satisfied: urllib3<3,>=1.21.1 in /usr/local/lib/python3.10/dist-packages (from requests->camel-tools) (2.2.3)\n",
            "Requirement already satisfied: certifi>=2017.4.17 in /usr/local/lib/python3.10/dist-packages (from requests->camel-tools) (2024.8.30)\n",
            "Requirement already satisfied: joblib>=1.2.0 in /usr/local/lib/python3.10/dist-packages (from scikit-learn->camel-tools) (1.4.2)\n",
            "Requirement already satisfied: threadpoolctl>=3.1.0 in /usr/local/lib/python3.10/dist-packages (from scikit-learn->camel-tools) (3.5.0)\n",
            "Requirement already satisfied: MarkupSafe>=2.0 in /usr/local/lib/python3.10/dist-packages (from jinja2->torch>=2.0->camel-tools) (3.0.2)\n"
          ]
        }
      ]
    },
    {
      "cell_type": "code",
      "source": [
        "# For English\n",
        "text_english = \"Hello, h0w are you doin today? It's been awhile since we've talked!\"\n",
        "text_english = text_english.lower()\n",
        "print(text_english)\n",
        "# For Arabic\n",
        "from camel_tools.utils.dediac import dediac_ar\n",
        "\n",
        "# Example Arabic text\n",
        "text_arabic = \"السَّلامُ علَيكُم! اليومُ هوَ يَومٌ جَميلٌ in Cairo.\"\n",
        "\n",
        "# Remove diacritics\n",
        "text_arabic_cleaned = dediac_ar(text_arabic)\n",
        "print(text_arabic_cleaned)"
      ],
      "metadata": {
        "colab": {
          "base_uri": "https://localhost:8080/"
        },
        "id": "t8DOL-RrgCkm",
        "outputId": "55a0aa99-6c5e-47f5-837e-19d93d7876e5"
      },
      "execution_count": null,
      "outputs": [
        {
          "output_type": "stream",
          "name": "stdout",
          "text": [
            "hello, h0w are you doin today? it's been awhile since we've talked!\n",
            "السلام عليكم! اليوم هو يوم جميل in Cairo.\n"
          ]
        }
      ]
    },
    {
      "cell_type": "markdown",
      "source": [
        "**b. Tokenization**"
      ],
      "metadata": {
        "id": "0TiRmCSjlfAu"
      }
    },
    {
      "cell_type": "code",
      "source": [
        "import spacy\n",
        "\n",
        "# Load language models for English and Arabic\n",
        "nlp_en = spacy.load(\"en_core_web_sm\")\n",
        "nlp_ar = spacy.blank(\"ar\")  # spaCy supports Arabic tokenization, but tagging requires more tools\n",
        "\n",
        "# Tokenization function\n",
        "def tokenize_text(text, nlp_model):\n",
        "    doc = nlp_model(text)\n",
        "    tokens = [token.text for token in doc]\n",
        "    return tokens\n",
        "\n",
        "tokens_en = tokenize_text(text_english, nlp_en)\n",
        "tokens_ar = tokenize_text(text_arabic_cleaned, nlp_ar)\n",
        "\n",
        "print(\"English Tokens:\", tokens_en)\n",
        "print(\"Arabic Tokens:\", tokens_ar)"
      ],
      "metadata": {
        "colab": {
          "base_uri": "https://localhost:8080/"
        },
        "id": "7m91Z69Uh_y-",
        "outputId": "a9884ee2-cdd3-469f-ad5b-a240d567f734"
      },
      "execution_count": null,
      "outputs": [
        {
          "output_type": "stream",
          "name": "stdout",
          "text": [
            "English Tokens: ['hello', ',', 'h0w', 'are', 'you', 'doin', 'today', '?', 'it', \"'s\", 'been', 'awhile', 'since', 'we', \"'ve\", 'talked', '!']\n",
            "Arabic Tokens: ['السلام', 'عليكم', '!', 'اليوم', 'هو', 'يوم', 'جميل', 'in', 'Cairo.']\n"
          ]
        }
      ]
    },
    {
      "cell_type": "markdown",
      "source": [
        "**c. Stopword Removal**\n"
      ],
      "metadata": {
        "id": "U1QCjEkolk5l"
      }
    },
    {
      "cell_type": "code",
      "source": [
        "# English and Arabic stopword removal\n",
        "from spacy.lang.en.stop_words import STOP_WORDS as EN_STOPWORDS\n",
        "from spacy.lang.ar.stop_words import STOP_WORDS as AR_STOPWORDS\n",
        "\n",
        "def remove_stopwords(tokens, stopwords):\n",
        "    return [token for token in tokens if token.lower() not in stopwords]\n",
        "\n",
        "filtered_en = remove_stopwords(tokens_en, EN_STOPWORDS)\n",
        "filtered_ar = remove_stopwords(tokens_ar, EN_STOPWORDS)\n",
        "filtered_ar = remove_stopwords(tokens_ar, AR_STOPWORDS)\n",
        "\n",
        "print(\"Filtered English Tokens:\", filtered_en)\n",
        "print(\"Filtered Arabic Tokens:\", filtered_ar)\n"
      ],
      "metadata": {
        "colab": {
          "base_uri": "https://localhost:8080/"
        },
        "id": "JgLJz9VGf7Z2",
        "outputId": "5f82f6a6-d272-40bf-965a-b6c2c468416b"
      },
      "execution_count": null,
      "outputs": [
        {
          "output_type": "stream",
          "name": "stdout",
          "text": [
            "Filtered English Tokens: ['hello', ',', 'h0w', 'doin', 'today', '?', 'awhile', 'talked', '!']\n",
            "Filtered Arabic Tokens: ['السلام', 'عليكم', '!', 'جميل', 'in', 'Cairo.']\n"
          ]
        }
      ]
    },
    {
      "cell_type": "markdown",
      "source": [
        "**d. Noice Removal**"
      ],
      "metadata": {
        "id": "DZTynVWrlqsK"
      }
    },
    {
      "cell_type": "code",
      "source": [
        "import string\n",
        "\n",
        "punctuation = string.punctuation\n",
        "\n",
        "cleaned_ar = [word for word in filtered_ar if word not in punctuation]\n",
        "cleaned_en = [word for word in filtered_en if word not in punctuation]\n",
        "\n",
        "# showing The Punctuation\n",
        "print(\"Punctuation Elements :\",punctuation)\n",
        "\n",
        "# Display tokens after removing punctuation\n",
        "print(\"\\n\\nFiltered Arabic Tokens without Punctuation:\", cleaned_ar)\n",
        "print(\"\\nFiltered English Tokens without Punctuation:\", cleaned_en)"
      ],
      "metadata": {
        "colab": {
          "base_uri": "https://localhost:8080/"
        },
        "id": "OlJppGTagB8l",
        "outputId": "a10047b6-1235-4fc9-9d17-bf1025eb2e15"
      },
      "execution_count": null,
      "outputs": [
        {
          "output_type": "stream",
          "name": "stdout",
          "text": [
            "Punctuation Elements : !\"#$%&'()*+,-./:;<=>?@[\\]^_`{|}~\n",
            "\n",
            "\n",
            "Filtered Arabic Tokens without Punctuation: ['السلام', 'عليكم', 'جميل', 'in', 'Cairo.']\n",
            "\n",
            "Filtered English Tokens without Punctuation: ['hello', 'h0w', 'doin', 'today', 'awhile', 'talked']\n"
          ]
        }
      ]
    },
    {
      "cell_type": "code",
      "source": [
        "!pip install pyspellchecker"
      ],
      "metadata": {
        "colab": {
          "base_uri": "https://localhost:8080/"
        },
        "id": "T5Dd5-QLmHsx",
        "outputId": "1e672efd-60c1-4e0d-cc42-3b47dcaf67c5"
      },
      "execution_count": null,
      "outputs": [
        {
          "output_type": "stream",
          "name": "stdout",
          "text": [
            "Requirement already satisfied: pyspellchecker in /usr/local/lib/python3.10/dist-packages (0.8.1)\n"
          ]
        }
      ]
    },
    {
      "cell_type": "markdown",
      "source": [
        "**e. Spelling Correction**"
      ],
      "metadata": {
        "id": "jiPQ4VXcnsJj"
      }
    },
    {
      "cell_type": "code",
      "source": [
        "# For English\n",
        "from spellchecker import SpellChecker\n",
        "\n",
        "spell = SpellChecker()\n",
        "tokens_english = [spell.correction(word) for word in cleaned_en]\n",
        "print(tokens_english)\n",
        "# For Arabic\n",
        "# Initialize SpellChecker for Arabic\n",
        "spell = SpellChecker(language='ar')\n",
        "\n",
        "def correct_spelling_arabic(text):\n",
        "    corrected_words = [spell.correction(word) or word for word in text]\n",
        "    return corrected_words\n",
        "\n",
        "# Example text\n",
        "tokens_arabic = correct_spelling_arabic(cleaned_ar)\n",
        "print(tokens_arabic)\n"
      ],
      "metadata": {
        "colab": {
          "base_uri": "https://localhost:8080/"
        },
        "id": "fjCrtR8vhAW2",
        "outputId": "d9d1b5a5-c90f-4975-84d1-c2bc095600e1"
      },
      "execution_count": null,
      "outputs": [
        {
          "output_type": "stream",
          "name": "stdout",
          "text": [
            "['hello', 'how', 'down', 'today', 'awhile', 'talked']\n",
            "['السلام', 'عليكم', 'جميل', 'من', 'Cairo.']\n"
          ]
        }
      ]
    },
    {
      "cell_type": "markdown",
      "source": [
        "**f. Handle Mixed Languages**"
      ],
      "metadata": {
        "id": "Az3VZnOoo3bH"
      }
    },
    {
      "cell_type": "code",
      "source": [
        "import re\n",
        "\n",
        "# For Arabic text\n",
        "arabic_words = [word for word in tokens_arabic if re.search(r'[\\u0600-\\u06FF]', word)]\n",
        "english_words_in_arabic = [word for word in tokens_arabic if re.search(r'[a-zA-Z]', word)]\n",
        "\n",
        "print(\"Arabic Words:\", arabic_words)\n",
        "print(\"English Words in Arabic Text:\", english_words_in_arabic)\n"
      ],
      "metadata": {
        "colab": {
          "base_uri": "https://localhost:8080/"
        },
        "id": "WfR5GPGRnaxE",
        "outputId": "c46e63ee-2606-4fe5-835b-581faca31aae"
      },
      "execution_count": null,
      "outputs": [
        {
          "output_type": "stream",
          "name": "stdout",
          "text": [
            "Arabic Words: ['السلام', 'عليكم', 'جميل', 'من']\n",
            "English Words in Arabic Text: ['Cairo.']\n"
          ]
        }
      ]
    },
    {
      "cell_type": "markdown",
      "source": [
        "> # **Step 2: Training the Word2Vec Model**\n",
        "\n",
        "**Purpose:**  \n",
        "- Create vector representations for words based on their context in the cleaned text.\n",
        "\n",
        "**Key Parameters:**  \n",
        "- `vector_size`: The dimensionality of word embeddings. Higher values capture more semantic nuances but need more data.\n",
        "- `window`: The context window size around each target word, determining the local or broad context relationships.\n",
        "- `min_count`: Minimum word frequency for inclusion in the vocabulary.\n",
        "\n",
        "**Challenges:**  \n",
        "- Small datasets may lead to less meaningful embeddings for infrequent words. Consider pretraining on larger datasets or using pretrained embeddings.\n"
      ],
      "metadata": {
        "id": "nt79m-9YqkIx"
      }
    },
    {
      "cell_type": "code",
      "source": [
        "from gensim.models import Word2Vec\n",
        "\n",
        "# Prepare your corpus\n",
        "sentences = [arabic_words, tokens_english]  # List of tokenized sentences\n",
        "model = Word2Vec(sentences, vector_size=100, window=5, min_count=1, workers=4)"
      ],
      "metadata": {
        "id": "ud_13jDgqNjC"
      },
      "execution_count": null,
      "outputs": []
    },
    {
      "cell_type": "markdown",
      "source": [
        "> # **Step 3: Extracting Word Embeddings**\n",
        "\n",
        "**Purpose:**  \n",
        "- Retrieve vector representations for specific words, which can be used for downstream tasks like classification or clustering.\n",
        "\n",
        "**Challenges:**  \n",
        "- Words not seen during training (e.g., rare words or those removed in preprocessing) will not have embeddings.\n"
      ],
      "metadata": {
        "id": "rrbRFRxl-las"
      }
    },
    {
      "cell_type": "code",
      "source": [
        "# Access the word vectors\n",
        "word_vectors = model.wv\n",
        "\n",
        "# Extract embeddings for selected words\n",
        "words_to_extract = [\"السلام\", \"عليكم\", \"hello\", \"today\", \"جميل\"]\n",
        "\n",
        "for word in words_to_extract:\n",
        "    if word in word_vectors:  # Ensure the word exists in the vocabulary\n",
        "        print(f\"Embedding for '{word}':\\n{word_vectors[word]}\\n\")\n",
        "    else:\n",
        "        print(f\"'{word}' is not in the vocabulary.\\n\")"
      ],
      "metadata": {
        "colab": {
          "base_uri": "https://localhost:8080/"
        },
        "id": "aMbBQRQUrGrY",
        "outputId": "c8e1897c-eb18-4457-8b2d-6bfa709328d6"
      },
      "execution_count": null,
      "outputs": [
        {
          "output_type": "stream",
          "name": "stdout",
          "text": [
            "Embedding for 'السلام':\n",
            "[-9.5785465e-03  8.9431154e-03  4.1650687e-03  9.2347348e-03\n",
            "  6.6435025e-03  2.9247368e-03  9.8040197e-03 -4.4246409e-03\n",
            " -6.8033109e-03  4.2273807e-03  3.7290000e-03 -5.6646108e-03\n",
            "  9.7047603e-03 -3.5583067e-03  9.5494064e-03  8.3472609e-04\n",
            " -6.3384566e-03 -1.9771170e-03 -7.3770545e-03 -2.9795230e-03\n",
            "  1.0416972e-03  9.4826873e-03  9.3558477e-03 -6.5958775e-03\n",
            "  3.4751510e-03  2.2755705e-03 -2.4893521e-03 -9.2291720e-03\n",
            "  1.0271263e-03 -8.1657059e-03  6.3201892e-03 -5.8000805e-03\n",
            "  5.5354391e-03  9.8337233e-03 -1.6000033e-04  4.5284927e-03\n",
            " -1.8094003e-03  7.3607611e-03  3.9400971e-03 -9.0103243e-03\n",
            " -2.3985039e-03  3.6287690e-03 -9.9568366e-05 -1.2012708e-03\n",
            " -1.0554385e-03 -1.6716016e-03  6.0495257e-04  4.1650953e-03\n",
            " -4.2527914e-03 -3.8336217e-03 -5.2816868e-05  2.6935578e-04\n",
            " -1.6880632e-04 -4.7855065e-03  4.3134023e-03 -2.1719194e-03\n",
            "  2.1035396e-03  6.6652300e-04  5.9696771e-03 -6.8423809e-03\n",
            " -6.8157101e-03 -4.4762576e-03  9.4358288e-03 -1.5918827e-03\n",
            " -9.4292425e-03 -5.4504158e-04 -4.4489228e-03  6.0000787e-03\n",
            " -9.5836855e-03  2.8590010e-03 -9.2528323e-03  1.2498009e-03\n",
            "  5.9991982e-03  7.3973476e-03 -7.6214634e-03 -6.0530235e-03\n",
            " -6.8384409e-03 -7.9183402e-03 -9.4990805e-03 -2.1254970e-03\n",
            " -8.3593250e-04 -7.2562015e-03  6.7870365e-03  1.1196196e-03\n",
            "  5.8288667e-03  1.4728665e-03  7.8936579e-04 -7.3681297e-03\n",
            " -2.1766580e-03  4.3210792e-03 -5.0853146e-03  1.1307895e-03\n",
            "  2.8833640e-03 -1.5363609e-03  9.9322954e-03  8.3496347e-03\n",
            "  2.4156666e-03  7.1182456e-03  5.8914376e-03 -5.5806171e-03]\n",
            "\n",
            "Embedding for 'عليكم':\n",
            "[ 8.1681199e-03 -4.4430327e-03  8.9854337e-03  8.2536647e-03\n",
            " -4.4352221e-03  3.0310510e-04  4.2744912e-03 -3.9263200e-03\n",
            " -5.5599655e-03 -6.5123225e-03 -6.7073823e-04 -2.9592158e-04\n",
            "  4.4630850e-03 -2.4740540e-03 -1.7260908e-04  2.4618758e-03\n",
            "  4.8675989e-03 -3.0808449e-05 -6.3394094e-03 -9.2608072e-03\n",
            "  2.6657581e-05  6.6618943e-03  1.4660227e-03 -8.9665223e-03\n",
            " -7.9386048e-03  6.5519023e-03 -3.7856805e-03  6.2549924e-03\n",
            " -6.6810320e-03  8.4796622e-03 -6.5163244e-03  3.2880199e-03\n",
            " -1.0569858e-03 -6.7875278e-03 -3.2875966e-03 -1.1614120e-03\n",
            " -5.4709399e-03 -1.2113475e-03 -7.5633135e-03  2.6466595e-03\n",
            "  9.0701487e-03 -2.3772502e-03 -9.7651005e-04  3.5135616e-03\n",
            "  8.6650876e-03 -5.9218528e-03 -6.8875779e-03 -2.9329848e-03\n",
            "  9.1476962e-03  8.6626766e-04 -8.6784009e-03 -1.4469790e-03\n",
            "  9.4794659e-03 -7.5494875e-03 -5.3580985e-03  9.3165627e-03\n",
            " -8.9737261e-03  3.8259076e-03  6.6544057e-04  6.6607012e-03\n",
            "  8.3127534e-03 -2.8507852e-03 -3.9923131e-03  8.8979173e-03\n",
            "  2.0896459e-03  6.2489416e-03 -9.4457148e-03  9.5901238e-03\n",
            " -1.3483083e-03 -6.0521150e-03  2.9925345e-03 -4.5661093e-04\n",
            "  4.7064926e-03 -2.2830211e-03 -4.1378425e-03  2.2778988e-03\n",
            "  8.3543835e-03 -4.9956059e-03  2.6686788e-03 -7.9905549e-03\n",
            " -6.7733466e-03 -4.6766878e-04 -8.7677278e-03  2.7894378e-03\n",
            "  1.5985954e-03 -2.3196924e-03  5.0037908e-03  9.7487867e-03\n",
            "  8.4542679e-03 -1.8802249e-03  2.0581519e-03 -4.0036892e-03\n",
            " -8.2414057e-03  6.2779556e-03 -1.9491815e-03 -6.6620467e-04\n",
            " -1.7713320e-03 -4.5356657e-03  4.0617096e-03 -4.2701806e-03]\n",
            "\n",
            "Embedding for 'hello':\n",
            "[-0.00713902  0.00124103 -0.00717672 -0.00224462  0.0037193   0.00583312\n",
            "  0.00119818  0.00210273 -0.00411039  0.00722533 -0.00630704  0.00464722\n",
            " -0.00821997  0.00203647 -0.00497705 -0.00424769 -0.00310898  0.00565521\n",
            "  0.0057984  -0.00497465  0.00077333 -0.00849578  0.00780981  0.00925729\n",
            " -0.00274233  0.00080022  0.00074665  0.00547788 -0.00860608  0.00058446\n",
            "  0.00686942  0.00223159  0.00112468 -0.00932216  0.00848237 -0.00626413\n",
            " -0.00299237  0.00349379 -0.00077263  0.00141129  0.00178199 -0.0068289\n",
            " -0.00972481  0.00904058  0.00619805 -0.00691293  0.00340348  0.00020606\n",
            "  0.00475375 -0.00711994  0.00402695  0.00434743  0.00995737 -0.00447374\n",
            " -0.00138926 -0.00731732 -0.00969783 -0.00908026 -0.00102275 -0.00650329\n",
            "  0.00484973 -0.00616403  0.00251919  0.00073944 -0.00339215 -0.00097922\n",
            "  0.00997913  0.00914589 -0.00446183  0.00908303 -0.00564176  0.00593092\n",
            " -0.00309722  0.00343175  0.00301723  0.00690046 -0.00237388  0.00877504\n",
            "  0.00758943 -0.00954765 -0.00800821 -0.0076379   0.00292326 -0.00279472\n",
            " -0.00692952 -0.00812826  0.00830918  0.00199049 -0.00932802 -0.00479272\n",
            "  0.00313674 -0.00471321  0.00528084 -0.00423344  0.0026418  -0.00804569\n",
            "  0.00620989  0.00481889  0.00078719  0.00301345]\n",
            "\n",
            "Embedding for 'today':\n",
            "[-5.3622725e-04  2.3643136e-04  5.1033497e-03  9.0092728e-03\n",
            " -9.3029495e-03 -7.1168090e-03  6.4588725e-03  8.9729885e-03\n",
            " -5.0154282e-03 -3.7633716e-03  7.3805046e-03 -1.5334714e-03\n",
            " -4.5366134e-03  6.5540518e-03 -4.8601604e-03 -1.8160177e-03\n",
            "  2.8765798e-03  9.9187379e-04 -8.2852151e-03 -9.4488179e-03\n",
            "  7.3117660e-03  5.0702621e-03  6.7576934e-03  7.6286553e-04\n",
            "  6.3508903e-03 -3.4053659e-03 -9.4640139e-04  5.7685734e-03\n",
            " -7.5216377e-03 -3.9361035e-03 -7.5115822e-03 -9.3004224e-04\n",
            "  9.5381187e-03 -7.3191668e-03 -2.3337686e-03 -1.9377411e-03\n",
            "  8.0774371e-03 -5.9308959e-03  4.5162440e-05 -4.7537340e-03\n",
            " -9.6035507e-03  5.0072931e-03 -8.7595852e-03 -4.3918253e-03\n",
            " -3.5099984e-05 -2.9618145e-04 -7.6612402e-03  9.6147433e-03\n",
            "  4.9820580e-03  9.2331432e-03 -8.1579173e-03  4.4957981e-03\n",
            " -4.1370760e-03  8.2453608e-04  8.4986202e-03 -4.4621765e-03\n",
            "  4.5175003e-03 -6.7869602e-03 -3.5484887e-03  9.3985079e-03\n",
            " -1.5776526e-03  3.2137157e-04 -4.1406299e-03 -7.6826881e-03\n",
            " -1.5080082e-03  2.4697948e-03 -8.8802696e-04  5.5336617e-03\n",
            " -2.7429771e-03  2.2600652e-03  5.4557943e-03  8.3459532e-03\n",
            " -1.4537406e-03 -9.2081428e-03  4.3705525e-03  5.7178497e-04\n",
            "  7.4419081e-03 -8.1328274e-04 -2.6384138e-03 -8.7530091e-03\n",
            " -8.5655687e-04  2.8265631e-03  5.4014288e-03  7.0526563e-03\n",
            " -5.7031214e-03  1.8588197e-03  6.0888636e-03 -4.7980510e-03\n",
            " -3.1072604e-03  6.7976294e-03  1.6314756e-03  1.8991709e-04\n",
            "  3.4736372e-03  2.1777749e-04  9.6188262e-03  5.0606038e-03\n",
            " -8.9173904e-03 -7.0415605e-03  9.0145587e-04  6.3925339e-03]\n",
            "\n",
            "Embedding for 'جميل':\n",
            "[ 8.13227147e-03 -4.45733406e-03 -1.06835726e-03  1.00636482e-03\n",
            " -1.91113955e-04  1.14817743e-03  6.11386076e-03 -2.02715401e-05\n",
            " -3.24596534e-03 -1.51072862e-03  5.89729892e-03  1.51410222e-03\n",
            " -7.24261976e-04  9.33324732e-03 -4.92128357e-03 -8.38409644e-04\n",
            "  9.17541143e-03  6.74942741e-03  1.50285603e-03 -8.88256077e-03\n",
            "  1.14874600e-03 -2.28825561e-03  9.36823711e-03  1.20992784e-03\n",
            "  1.49006362e-03  2.40640994e-03 -1.83600665e-03 -4.99963388e-03\n",
            "  2.32429506e-04 -2.01418041e-03  6.60093315e-03  8.94012302e-03\n",
            " -6.74754381e-04  2.97701475e-03 -6.10765442e-03  1.69932481e-03\n",
            " -6.92623248e-03 -8.69402662e-03 -5.90020278e-03 -8.95647518e-03\n",
            "  7.27759488e-03 -5.77203138e-03  8.27635173e-03 -7.24354526e-03\n",
            "  3.42167495e-03  9.67499893e-03 -7.78544787e-03 -9.94505733e-03\n",
            " -4.32914635e-03 -2.68313056e-03 -2.71289347e-04 -8.83155130e-03\n",
            " -8.61755759e-03  2.80021061e-03 -8.20640661e-03 -9.06933658e-03\n",
            " -2.34046578e-03 -8.63180775e-03 -7.05664977e-03 -8.40115082e-03\n",
            " -3.01328895e-04 -4.56429832e-03  6.62717456e-03  1.52716041e-03\n",
            " -3.34147573e-03  6.10897178e-03 -6.01328490e-03 -4.65616956e-03\n",
            " -7.20750913e-03 -4.33658017e-03 -1.80932996e-03  6.48964290e-03\n",
            " -2.77039292e-03  4.91896737e-03  6.90444233e-03 -7.46370573e-03\n",
            "  4.56485013e-03  6.12697843e-03 -2.95447465e-03  6.62502181e-03\n",
            "  6.12587947e-03 -6.44348515e-03 -6.76455162e-03  2.53895880e-03\n",
            " -1.62381888e-03 -6.06512791e-03  9.49920900e-03 -5.13014663e-03\n",
            " -6.55409694e-03 -1.19885204e-04 -2.70142802e-03  4.44400299e-04\n",
            " -3.53745813e-03 -4.19330609e-04 -7.08615757e-04  8.22820642e-04\n",
            "  8.19481723e-03 -5.73670724e-03 -1.65952800e-03  5.57160750e-03]\n",
            "\n"
          ]
        }
      ]
    },
    {
      "cell_type": "markdown",
      "source": [
        "> # **Step 4: Visualizing Word Embeddings**\n",
        "\n",
        "**Purpose:**  \n",
        "- Use dimensionality reduction techniques (PCA or t-SNE) to visualize high-dimensional word embeddings in 2D space.\n",
        "\n",
        "**Justification:**  \n",
        "- Visualization helps verify the quality of embeddings. Words with similar meanings or contexts should cluster together.\n",
        "\n",
        "**Challenges:**  \n",
        "- PCA captures only linear relationships, while t-SNE is better for non-linear relationships but computationally intensive.\n"
      ],
      "metadata": {
        "id": "623tipz5v1hl"
      }
    },
    {
      "cell_type": "code",
      "source": [
        "from sklearn.decomposition import PCA\n",
        "import matplotlib.pyplot as plt\n",
        "\n",
        "# Reduce to 2 dimensions\n",
        "pca = PCA(n_components=2)\n",
        "word_embeddings_2d = pca.fit_transform(word_vectors.vectors)\n",
        "\n",
        "# Scatter plot\n",
        "plt.scatter(word_embeddings_2d[:, 0], word_embeddings_2d[:, 1])\n",
        "plt.show()"
      ],
      "metadata": {
        "colab": {
          "base_uri": "https://localhost:8080/",
          "height": 435
        },
        "id": "kZtb8xjbvwJG",
        "outputId": "3c5b9ef7-e616-49d0-f765-927a02b3d51f"
      },
      "execution_count": null,
      "outputs": [
        {
          "output_type": "display_data",
          "data": {
            "text/plain": [
              "<Figure size 640x480 with 1 Axes>"
            ],
            "image/png": "[encoded data removed]"
          },
          "metadata": {}
        }
      ]
    }
  ]
}